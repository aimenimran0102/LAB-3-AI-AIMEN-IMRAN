{
 "cells": [
  {
   "cell_type": "code",
   "execution_count": 4,
   "id": "f56a8b79-ef32-4f50-a61a-b48fc06b3c46",
   "metadata": {},
   "outputs": [
    {
     "name": "stdout",
     "output_type": "stream",
     "text": [
      "Predicted Demand Categories on Test Data:\n",
      "[2 2 0]\n",
      "\n",
      "Accuracy of the model: 1.0\n",
      "\n",
      "Confusion Matrix:\n",
      "[[1 0]\n",
      " [0 2]]\n"
     ]
    }
   ],
   "source": [
    "\n",
    "import pandas as pd\n",
    "from sklearn.model_selection import train_test_split\n",
    "from sklearn.preprocessing import LabelEncoder, StandardScaler\n",
    "from sklearn.neighbors import KNeighborsClassifier\n",
    "from sklearn.metrics import accuracy_score, confusion_matrix\n",
    "\n",
    "\n",
    "data = {\n",
    "    'Product Category': ['Electronics', 'Clothing', 'Food', 'Furniture', 'Accessories', 'Electronics', 'Food', 'Furniture', 'Clothing', 'Accessories'],\n",
    "    'Units Sold (Monthly)': [500, 150, 50, 400, 100, 300, 30, 450, 200, 120],\n",
    "    'Price ($)': [100, 30, 10, 200, 20, 120, 15, 180, 25, 22],\n",
    "    'Seasonal Demand': ['Yes', 'No', 'Yes', 'No', 'Yes', 'Yes', 'No', 'No', 'Yes', 'No'],\n",
    "    'Supplier Reliability': [5, 3, 4, 4, 2, 5, 3, 4, 4, 2],\n",
    "    'Return Rate (%)': [2, 5, 3, 1, 8, 3, 6, 2, 7, 5],\n",
    "    'Stock Availability': ['High', 'Medium', 'Low', 'High', 'Medium', 'High', 'Low', 'High', 'Medium', 'Medium'],\n",
    "    'Demand Category': ['High Demand', 'Moderate Demand', 'Low Demand', 'High Demand', 'Moderate Demand', \n",
    "                        'High Demand', 'Low Demand', 'High Demand', 'Moderate Demand', 'Moderate Demand']\n",
    "}\n",
    "df = pd.DataFrame(data)\n",
    "\n",
    "label_encoders = {}\n",
    "for column in ['Product Category', 'Seasonal Demand', 'Stock Availability', 'Demand Category']:\n",
    "    le = LabelEncoder()\n",
    "    df[column] = le.fit_transform(df[column])\n",
    "    label_encoders[column] = le\n",
    "\n",
    "X = df.drop('Demand Category', axis=1)  # Features\n",
    "y = df['Demand Category']               # Target\n",
    "\n",
    "scaler = StandardScaler()\n",
    "X = scaler.fit_transform(X)\n",
    "\n",
    "X_train, X_test, y_train, y_test = train_test_split(X, y, test_size=0.3, random_state=42)\n",
    "\n",
    "knn = KNeighborsClassifier(n_neighbors=3)\n",
    "knn.fit(X_train, y_train)\n",
    "\n",
    "y_pred = knn.predict(X_test)\n",
    "\n",
    "accuracy = accuracy_score(y_test, y_pred)\n",
    "conf_matrix = confusion_matrix(y_test, y_pred)\n",
    "\n",
    "print(\"Predicted Demand Categories on Test Data:\")\n",
    "print(y_pred)\n",
    "print(\"\\nAccuracy of the model:\", accuracy)\n",
    "print(\"\\nConfusion Matrix:\")\n",
    "print(conf_matrix)\n"
   ]
  },
  {
   "cell_type": "code",
   "execution_count": null,
   "id": "bec3b032-60d2-4c8c-8ef7-47efa0d5484f",
   "metadata": {},
   "outputs": [],
   "source": []
  },
  {
   "cell_type": "code",
   "execution_count": null,
   "id": "d0670289-ecbd-404a-a790-d89ebd4ea439",
   "metadata": {},
   "outputs": [],
   "source": []
  }
 ],
 "metadata": {
  "kernelspec": {
   "display_name": "Python 3 (ipykernel)",
   "language": "python",
   "name": "python3"
  },
  "language_info": {
   "codemirror_mode": {
    "name": "ipython",
    "version": 3
   },
   "file_extension": ".py",
   "mimetype": "text/x-python",
   "name": "python",
   "nbconvert_exporter": "python",
   "pygments_lexer": "ipython3",
   "version": "3.12.7"
  }
 },
 "nbformat": 4,
 "nbformat_minor": 5
}
